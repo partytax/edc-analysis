{
 "cells": [
  {
   "cell_type": "markdown",
   "metadata": {},
   "source": [
    "# Everyday Carry Cost/Benefit Analysis\n",
    "Here I conduct a data cleaning and analysis of the utility score and mass of every item in my backpack."
   ]
  },
  {
   "cell_type": "code",
   "execution_count": 1,
   "metadata": {},
   "outputs": [],
   "source": [
    "import pandas as pd"
   ]
  },
  {
   "cell_type": "code",
   "execution_count": 2,
   "metadata": {},
   "outputs": [],
   "source": [
    "from pandas import ExcelFile"
   ]
  },
  {
   "cell_type": "code",
   "execution_count": 3,
   "metadata": {},
   "outputs": [],
   "source": [
    "#Convert Excel file to DataFrame\n",
    "df = pd.read_excel('backpack.xlsx')"
   ]
  },
  {
   "cell_type": "code",
   "execution_count": 4,
   "metadata": {},
   "outputs": [
    {
     "data": {
      "text/html": [
       "<div>\n",
       "<style scoped>\n",
       "    .dataframe tbody tr th:only-of-type {\n",
       "        vertical-align: middle;\n",
       "    }\n",
       "\n",
       "    .dataframe tbody tr th {\n",
       "        vertical-align: top;\n",
       "    }\n",
       "\n",
       "    .dataframe thead th {\n",
       "        text-align: right;\n",
       "    }\n",
       "</style>\n",
       "<table border=\"1\" class=\"dataframe\">\n",
       "  <thead>\n",
       "    <tr style=\"text-align: right;\">\n",
       "      <th></th>\n",
       "      <th>Item</th>\n",
       "      <th>Utility Points</th>\n",
       "      <th>Mass (g)</th>\n",
       "      <th>Mass per Utility Point</th>\n",
       "    </tr>\n",
       "  </thead>\n",
       "  <tbody>\n",
       "    <tr>\n",
       "      <th>0</th>\n",
       "      <td>NaN</td>\n",
       "      <td>NaN</td>\n",
       "      <td>6908</td>\n",
       "      <td>NaN</td>\n",
       "    </tr>\n",
       "    <tr>\n",
       "      <th>1</th>\n",
       "      <td>Graph-pad</td>\n",
       "      <td>8.0</td>\n",
       "      <td>380</td>\n",
       "      <td>47.500000</td>\n",
       "    </tr>\n",
       "    <tr>\n",
       "      <th>2</th>\n",
       "      <td>sharpie</td>\n",
       "      <td>10.0</td>\n",
       "      <td>9</td>\n",
       "      <td>0.900000</td>\n",
       "    </tr>\n",
       "    <tr>\n",
       "      <th>3</th>\n",
       "      <td>altoids</td>\n",
       "      <td>4.0</td>\n",
       "      <td>55</td>\n",
       "      <td>13.750000</td>\n",
       "    </tr>\n",
       "    <tr>\n",
       "      <th>4</th>\n",
       "      <td>moisturizing-cream</td>\n",
       "      <td>7.0</td>\n",
       "      <td>123</td>\n",
       "      <td>17.571429</td>\n",
       "    </tr>\n",
       "  </tbody>\n",
       "</table>\n",
       "</div>"
      ],
      "text/plain": [
       "                 Item  Utility Points  Mass (g)  Mass per Utility Point\n",
       "0                 NaN             NaN      6908                     NaN\n",
       "1           Graph-pad             8.0       380               47.500000\n",
       "2             sharpie            10.0         9                0.900000\n",
       "3             altoids             4.0        55               13.750000\n",
       "4  moisturizing-cream             7.0       123               17.571429"
      ]
     },
     "execution_count": 4,
     "metadata": {},
     "output_type": "execute_result"
    }
   ],
   "source": [
    "#Preview DataFrame\n",
    "df.head()"
   ]
  },
  {
   "cell_type": "code",
   "execution_count": 5,
   "metadata": {},
   "outputs": [],
   "source": [
    "#Drop the first row, which was used for totaling mass\n",
    "df.drop(df.index[0], inplace=True)"
   ]
  },
  {
   "cell_type": "code",
   "execution_count": 6,
   "metadata": {},
   "outputs": [],
   "source": [
    "#Also drop the Mass per Utility Point column, as the python analysis will\n",
    "#be more advanced than the spreadsheet analysis, and a clean slate is best\n",
    "df.drop('Mass per Utility Point', axis=1, inplace=True)"
   ]
  },
  {
   "cell_type": "code",
   "execution_count": 7,
   "metadata": {},
   "outputs": [],
   "source": [
    "#Rename the columns, as the current names aren't programmer-friendly\n",
    "df.rename(columns={'Item':'item', 'Utility Points':'utility', 'Mass (g)':'mass'}, inplace=True)"
   ]
  },
  {
   "cell_type": "code",
   "execution_count": 8,
   "metadata": {},
   "outputs": [
    {
     "data": {
      "text/html": [
       "<div>\n",
       "<style scoped>\n",
       "    .dataframe tbody tr th:only-of-type {\n",
       "        vertical-align: middle;\n",
       "    }\n",
       "\n",
       "    .dataframe tbody tr th {\n",
       "        vertical-align: top;\n",
       "    }\n",
       "\n",
       "    .dataframe thead th {\n",
       "        text-align: right;\n",
       "    }\n",
       "</style>\n",
       "<table border=\"1\" class=\"dataframe\">\n",
       "  <thead>\n",
       "    <tr style=\"text-align: right;\">\n",
       "      <th></th>\n",
       "      <th>item</th>\n",
       "      <th>utility</th>\n",
       "      <th>mass</th>\n",
       "    </tr>\n",
       "  </thead>\n",
       "  <tbody>\n",
       "    <tr>\n",
       "      <th>1</th>\n",
       "      <td>Graph-pad</td>\n",
       "      <td>8.0</td>\n",
       "      <td>380</td>\n",
       "    </tr>\n",
       "    <tr>\n",
       "      <th>2</th>\n",
       "      <td>sharpie</td>\n",
       "      <td>10.0</td>\n",
       "      <td>9</td>\n",
       "    </tr>\n",
       "    <tr>\n",
       "      <th>3</th>\n",
       "      <td>altoids</td>\n",
       "      <td>4.0</td>\n",
       "      <td>55</td>\n",
       "    </tr>\n",
       "    <tr>\n",
       "      <th>4</th>\n",
       "      <td>moisturizing-cream</td>\n",
       "      <td>7.0</td>\n",
       "      <td>123</td>\n",
       "    </tr>\n",
       "    <tr>\n",
       "      <th>5</th>\n",
       "      <td>wallet</td>\n",
       "      <td>7.0</td>\n",
       "      <td>133</td>\n",
       "    </tr>\n",
       "  </tbody>\n",
       "</table>\n",
       "</div>"
      ],
      "text/plain": [
       "                 item  utility  mass\n",
       "1           Graph-pad      8.0   380\n",
       "2             sharpie     10.0     9\n",
       "3             altoids      4.0    55\n",
       "4  moisturizing-cream      7.0   123\n",
       "5              wallet      7.0   133"
      ]
     },
     "execution_count": 8,
     "metadata": {},
     "output_type": "execute_result"
    }
   ],
   "source": [
    "df.head()"
   ]
  },
  {
   "cell_type": "code",
   "execution_count": 9,
   "metadata": {},
   "outputs": [],
   "source": [
    "#Import pyplot\n",
    "import matplotlib.pyplot as plt"
   ]
  },
  {
   "cell_type": "code",
   "execution_count": 71,
   "metadata": {},
   "outputs": [
    {
     "data": {
      "image/png": "[encoded data removed]",
      "text/plain": [
       "<Figure size 432x288 with 1 Axes>"
      ]
     },
     "metadata": {
      "needs_background": "light"
     },
     "output_type": "display_data"
    }
   ],
   "source": [
    "#Create a scatter plot of utility and mass\n",
    "plt.scatter(df['utility'], df['mass'], color='green')\n",
    "plt.xlabel('utility')\n",
    "plt.ylabel('mass (g)')\n",
    "plt.title('Utility vs. Mass')\n",
    "plt.show()"
   ]
  },
  {
   "cell_type": "code",
   "execution_count": 11,
   "metadata": {
    "scrolled": true
   },
   "outputs": [
    {
     "data": {
      "image/png": "[encoded data removed]",
      "text/plain": [
       "<Figure size 432x288 with 1 Axes>"
      ]
     },
     "metadata": {
      "needs_background": "light"
     },
     "output_type": "display_data"
    }
   ],
   "source": [
    "#Plot histogram of utilities\n",
    "plt.hist(df['utility'], color='green')\n",
    "plt.title('Utility Distribution')\n",
    "plt.xlabel('Utility')\n",
    "plt.ylabel('Frequency')\n",
    "plt.show()"
   ]
  },
  {
   "cell_type": "markdown",
   "metadata": {},
   "source": [
    "Good news! The mode of the distribution of EDC utility is on the positive side."
   ]
  },
  {
   "cell_type": "code",
   "execution_count": 12,
   "metadata": {},
   "outputs": [
    {
     "data": {
      "image/png": "[encoded data removed]",
      "text/plain": [
       "<Figure size 432x288 with 1 Axes>"
      ]
     },
     "metadata": {
      "needs_background": "light"
     },
     "output_type": "display_data"
    }
   ],
   "source": [
    "#Plot histogram of masses\n",
    "plt.hist(df['mass'], color='green')\n",
    "plt.title('Mass Distribution')\n",
    "plt.xlabel('Mass')\n",
    "plt.ylabel('Frequency')\n",
    "plt.show()"
   ]
  },
  {
   "cell_type": "markdown",
   "metadata": {},
   "source": [
    "The mass distribution seems to have a mode near the left side of the graph, but a few outliers are making it difficult to interpret our data. Let's find out what they are."
   ]
  },
  {
   "cell_type": "code",
   "execution_count": 13,
   "metadata": {},
   "outputs": [
    {
     "data": {
      "text/html": [
       "<div>\n",
       "<style scoped>\n",
       "    .dataframe tbody tr th:only-of-type {\n",
       "        vertical-align: middle;\n",
       "    }\n",
       "\n",
       "    .dataframe tbody tr th {\n",
       "        vertical-align: top;\n",
       "    }\n",
       "\n",
       "    .dataframe thead th {\n",
       "        text-align: right;\n",
       "    }\n",
       "</style>\n",
       "<table border=\"1\" class=\"dataframe\">\n",
       "  <thead>\n",
       "    <tr style=\"text-align: right;\">\n",
       "      <th></th>\n",
       "      <th>item</th>\n",
       "      <th>utility</th>\n",
       "      <th>mass</th>\n",
       "    </tr>\n",
       "  </thead>\n",
       "  <tbody>\n",
       "    <tr>\n",
       "      <th>37</th>\n",
       "      <td>Book-2</td>\n",
       "      <td>6.0</td>\n",
       "      <td>933</td>\n",
       "    </tr>\n",
       "    <tr>\n",
       "      <th>43</th>\n",
       "      <td>backpack</td>\n",
       "      <td>10.0</td>\n",
       "      <td>1402</td>\n",
       "    </tr>\n",
       "    <tr>\n",
       "      <th>45</th>\n",
       "      <td>laptop</td>\n",
       "      <td>10.0</td>\n",
       "      <td>1517</td>\n",
       "    </tr>\n",
       "  </tbody>\n",
       "</table>\n",
       "</div>"
      ],
      "text/plain": [
       "        item  utility  mass\n",
       "37    Book-2      6.0   933\n",
       "43  backpack     10.0  1402\n",
       "45    laptop     10.0  1517"
      ]
     },
     "execution_count": 13,
     "metadata": {},
     "output_type": "execute_result"
    }
   ],
   "source": [
    "#Get items above 800g of mass\n",
    "df[df['mass']>800]"
   ]
  },
  {
   "cell_type": "code",
   "execution_count": 14,
   "metadata": {},
   "outputs": [],
   "source": [
    "import numpy as np"
   ]
  },
  {
   "cell_type": "code",
   "execution_count": 15,
   "metadata": {},
   "outputs": [
    {
     "data": {
      "image/png": "[encoded data removed]",
      "text/plain": [
       "<Figure size 432x288 with 1 Axes>"
      ]
     },
     "metadata": {
      "needs_background": "light"
     },
     "output_type": "display_data"
    }
   ],
   "source": [
    "#Regenerate mass histogram excluding these items\n",
    "plt.hist(np.array(df.loc[df['mass']<800,['mass']]), bins=15, color='green')\n",
    "plt.title('Mass Distribution')\n",
    "plt.xlabel('Mass')\n",
    "plt.ylabel('Frequency')\n",
    "plt.show()"
   ]
  },
  {
   "cell_type": "code",
   "execution_count": 16,
   "metadata": {},
   "outputs": [
    {
     "data": {
      "image/png": "[encoded data removed]",
      "text/plain": [
       "<Figure size 432x288 with 1 Axes>"
      ]
     },
     "metadata": {
      "needs_background": "light"
     },
     "output_type": "display_data"
    }
   ],
   "source": [
    "#Zoom in even more on the 0-50 interval using the 'range' parameter\n",
    "plt.hist(df['mass'], color='green',range=(0,50))\n",
    "plt.title('Mass Distribution')\n",
    "plt.xlabel('Mass')\n",
    "plt.ylabel('Frequency')\n",
    "plt.show()"
   ]
  },
  {
   "cell_type": "code",
   "execution_count": 17,
   "metadata": {},
   "outputs": [
    {
     "data": {
      "text/plain": [
       "150.17391304347825"
      ]
     },
     "execution_count": 17,
     "metadata": {},
     "output_type": "execute_result"
    }
   ],
   "source": [
    "#Find mean\n",
    "np.mean(df['mass'])"
   ]
  },
  {
   "cell_type": "code",
   "execution_count": 18,
   "metadata": {
    "scrolled": true
   },
   "outputs": [
    {
     "data": {
      "text/plain": [
       "35.0"
      ]
     },
     "execution_count": 18,
     "metadata": {},
     "output_type": "execute_result"
    }
   ],
   "source": [
    "#Find median\n",
    "np.median(df['mass'])"
   ]
  },
  {
   "cell_type": "markdown",
   "metadata": {},
   "source": [
    "The distribution of masses is ultra-positively skewed, but that will not affect the outcome of the next excercise."
   ]
  },
  {
   "cell_type": "markdown",
   "metadata": {},
   "source": [
    "The real point of this analysis is to discover which items are worth carrying around in my backpack. Instead of building a model, I am going to recreate the scatter plot with four quadrants:\n",
    "* low utility & low mass\n",
    "* high utility & low mass\n",
    "* low utility & high mass (problematic)\n",
    "* high utility & high mass"
   ]
  },
  {
   "cell_type": "code",
   "execution_count": 21,
   "metadata": {},
   "outputs": [
    {
     "data": {
      "image/png": "[encoded data removed]",
      "text/plain": [
       "<Figure size 432x288 with 1 Axes>"
      ]
     },
     "metadata": {
      "needs_background": "light"
     },
     "output_type": "display_data"
    }
   ],
   "source": [
    "#Create scatter plot of utility and mass with quadrants denoted by data medians\n",
    "plt.scatter(df['utility'], df['mass'], alpha=0.3, color='green')\n",
    "\n",
    "#Writing utility minimum, median, and maximum values to variables for better readability\n",
    "ut_min = np.min(df['utility'])\n",
    "ut_med = np.median(df['utility'])\n",
    "ut_max = np.max(df['utility'])\n",
    "\n",
    "#Writing mass minimum, median, and maximum values to variables for better readability\n",
    "ma_min = np.min(df['mass'])\n",
    "ma_med = np.median(df['mass'])\n",
    "ma_max = np.max(df['mass'])\n",
    "\n",
    "#Plot vertical line\n",
    "plt.plot((ut_med, ut_med), (ma_min, ma_max), 'k-')\n",
    "#Plot horizontal line\n",
    "plt.plot((ut_min, ut_max), (ma_med, ma_med), 'k-')\n",
    "\n",
    "#Label axes\n",
    "plt.xlabel('utility')\n",
    "plt.ylabel('mass (g)')\n",
    "\n",
    "#Set title\n",
    "plt.title('Utility vs. Mass')\n",
    "\n",
    "#Set y-axis to display on a log scale for easier interpretation\n",
    "plt.yscale('log')\n",
    "\n",
    "#Show graph\n",
    "plt.show()"
   ]
  },
  {
   "cell_type": "markdown",
   "metadata": {},
   "source": [
    "Now that we have a scatter plot with our median quadrants, we will fetch a list of items in the problematic northwestern quadrant."
   ]
  },
  {
   "cell_type": "code",
   "execution_count": 26,
   "metadata": {},
   "outputs": [
    {
     "data": {
      "text/html": [
       "<div>\n",
       "<style scoped>\n",
       "    .dataframe tbody tr th:only-of-type {\n",
       "        vertical-align: middle;\n",
       "    }\n",
       "\n",
       "    .dataframe tbody tr th {\n",
       "        vertical-align: top;\n",
       "    }\n",
       "\n",
       "    .dataframe thead th {\n",
       "        text-align: right;\n",
       "    }\n",
       "</style>\n",
       "<table border=\"1\" class=\"dataframe\">\n",
       "  <thead>\n",
       "    <tr style=\"text-align: right;\">\n",
       "      <th></th>\n",
       "      <th>item</th>\n",
       "      <th>utility</th>\n",
       "      <th>mass</th>\n",
       "    </tr>\n",
       "  </thead>\n",
       "  <tbody>\n",
       "    <tr>\n",
       "      <th>3</th>\n",
       "      <td>altoids</td>\n",
       "      <td>4.0</td>\n",
       "      <td>55</td>\n",
       "    </tr>\n",
       "    <tr>\n",
       "      <th>15</th>\n",
       "      <td>ti-36x-calculator</td>\n",
       "      <td>4.0</td>\n",
       "      <td>148</td>\n",
       "    </tr>\n",
       "    <tr>\n",
       "      <th>17</th>\n",
       "      <td>deodorant</td>\n",
       "      <td>2.0</td>\n",
       "      <td>85</td>\n",
       "    </tr>\n",
       "    <tr>\n",
       "      <th>20</th>\n",
       "      <td>Leatherman-case:leatherman-multitool</td>\n",
       "      <td>6.0</td>\n",
       "      <td>151</td>\n",
       "    </tr>\n",
       "    <tr>\n",
       "      <th>24</th>\n",
       "      <td>Usb-charger</td>\n",
       "      <td>6.0</td>\n",
       "      <td>41</td>\n",
       "    </tr>\n",
       "    <tr>\n",
       "      <th>28</th>\n",
       "      <td>Mason-jar</td>\n",
       "      <td>1.0</td>\n",
       "      <td>243</td>\n",
       "    </tr>\n",
       "    <tr>\n",
       "      <th>36</th>\n",
       "      <td>Book-1</td>\n",
       "      <td>6.0</td>\n",
       "      <td>229</td>\n",
       "    </tr>\n",
       "    <tr>\n",
       "      <th>37</th>\n",
       "      <td>Book-2</td>\n",
       "      <td>6.0</td>\n",
       "      <td>933</td>\n",
       "    </tr>\n",
       "  </tbody>\n",
       "</table>\n",
       "</div>"
      ],
      "text/plain": [
       "                                    item  utility  mass\n",
       "3                                altoids      4.0    55\n",
       "15                     ti-36x-calculator      4.0   148\n",
       "17                             deodorant      2.0    85\n",
       "20  Leatherman-case:leatherman-multitool      6.0   151\n",
       "24                           Usb-charger      6.0    41\n",
       "28                             Mason-jar      1.0   243\n",
       "36                                Book-1      6.0   229\n",
       "37                                Book-2      6.0   933"
      ]
     },
     "execution_count": 26,
     "metadata": {},
     "output_type": "execute_result"
    }
   ],
   "source": [
    "#Save and display list of items that are below utility median and above mass median\n",
    "problematic = df[(df['utility']<ut_med) & (df['mass']>ma_med)]\n",
    "problematic"
   ]
  },
  {
   "cell_type": "markdown",
   "metadata": {},
   "source": [
    "I now have a list of items that I should consider tossing from my backpack or upgrading to lighter alternatives. Definitely ditching the mason jar! "
   ]
  },
  {
   "cell_type": "markdown",
   "metadata": {},
   "source": [
    "Lastly, we will see how much lighter my backpack will be after removing the listed items."
   ]
  },
  {
   "cell_type": "code",
   "execution_count": 69,
   "metadata": {},
   "outputs": [
    {
     "name": "stdout",
     "output_type": "stream",
     "text": [
      "Original Mass: 6908 g\n",
      "Problematic Mass: 1885 g\n",
      "New Mass: 5023 g\n",
      "Mass Savings: 27.29%\n"
     ]
    }
   ],
   "source": [
    "#Fetch original mass\n",
    "original_mass = df['mass'].sum()\n",
    "print(f\"Original Mass: {original_mass} g\")\n",
    "\n",
    "#Fetch problematic mass\n",
    "problematic_mass = problematic['mass'].sum()\n",
    "print(f\"Problematic Mass: {problematic_mass} g\")\n",
    "\n",
    "#Calculate new mass\n",
    "new_mass = df['mass'].sum() - problematic['mass'].sum()\n",
    "print(f\"New Mass: {new_mass} g\")\n",
    "\n",
    "#Calculate percent of mass saved\n",
    "percent_saved = round(100*(problematic['mass'].sum()/df['mass'].sum()),2)\n",
    "print(f\"Mass Savings: {percent_saved}%\")"
   ]
  },
  {
   "cell_type": "code",
   "execution_count": 62,
   "metadata": {},
   "outputs": [
    {
     "data": {
      "image/png": "[encoded data removed]",
      "text/plain": [
       "<Figure size 432x288 with 1 Axes>"
      ]
     },
     "metadata": {},
     "output_type": "display_data"
    }
   ],
   "source": [
    "#Render pie graph\n",
    "plt.pie([new_mass,problematic_mass], labels=[f'New\\n({new_mass}g)', f'Removed\\n({problematic_mass}g)'], colors=['green', 'orange'],shadow=True)\n",
    "plt.show()"
   ]
  },
  {
   "cell_type": "code",
   "execution_count": 70,
   "metadata": {},
   "outputs": [
    {
     "name": "stdout",
     "output_type": "stream",
     "text": [
      "Original Mass: 15.23 lbs\n",
      "Problematic Mass: 4.16 lbs\n",
      "New Mass: 11.07 lbs\n"
     ]
    }
   ],
   "source": [
    "#Converting to pounds\n",
    "#Grams to pounds conversion factor\n",
    "g_to_lb = 0.002204623\n",
    "#Rerunning readout with pound conversion\n",
    "original_mass = df['mass'].sum()\n",
    "print(f\"Original Mass: {round(original_mass*g_to_lb, 2)} lbs\")\n",
    "problematic_mass = problematic['mass'].sum()\n",
    "print(f\"Problematic Mass: {round(problematic_mass*g_to_lb, 2)} lbs\")\n",
    "new_mass = df['mass'].sum() - problematic['mass'].sum()\n",
    "print(f\"New Mass: {round(new_mass*g_to_lb,2)} lbs\")"
   ]
  },
  {
   "cell_type": "markdown",
   "metadata": {},
   "source": [
    "There we have it. Through this excercise, I removed 4.16 pounds of stuff from my backpack."
   ]
  },
  {
   "cell_type": "code",
   "execution_count": null,
   "metadata": {},
   "outputs": [],
   "source": []
  }
 ],
 "metadata": {
  "kernelspec": {
   "display_name": "Python 3",
   "language": "python",
   "name": "python3"
  },
  "language_info": {
   "codemirror_mode": {
    "name": "ipython",
    "version": 3
   },
   "file_extension": ".py",
   "mimetype": "text/x-python",
   "name": "python",
   "nbconvert_exporter": "python",
   "pygments_lexer": "ipython3",
   "version": "3.7.2"
  }
 },
 "nbformat": 4,
 "nbformat_minor": 2
}
